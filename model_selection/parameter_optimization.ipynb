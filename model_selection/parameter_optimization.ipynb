{
 "cells": [
  {
   "cell_type": "markdown",
   "metadata": {},
   "source": [
    "# Paramter-optimize the ML methods from pre-selction\n",
    "Using Python 3.7 and fast.ai v2\n",
    "\n",
    "Author: Patrick Ruoff\n",
    "\n",
    "Date: January 2020"
   ]
  },
  {
   "cell_type": "code",
   "execution_count": 1,
   "metadata": {
    "pycharm": {
     "is_executing": false
    }
   },
   "outputs": [],
   "source": [
    "import pandas as pd\n",
    "import numpy as np\n",
    "\n",
    "import data_preparation_methods as prep\n",
    "import analysis_methods as ana\n",
    "import scikitlearn_methods as sci\n",
    "seed = 42\n",
    "rs = np.random.RandomState()\n",
    "rs.seed(seed)"
   ]
  },
  {
   "cell_type": "markdown",
   "metadata": {},
   "source": [
    "There are 3 occupants in the data set that I collected: 'O1', 'O2', or 'O3'. This notebook\n",
    "is implemented to run the model_selection for one single occupant. "
   ]
  },
  {
   "cell_type": "code",
   "execution_count": 2,
   "metadata": {
    "pycharm": {
     "is_executing": false
    }
   },
   "outputs": [],
   "source": [
    "occupant = 'U3'\n",
    "n_folds = 5"
   ]
  },
  {
   "cell_type": "code",
   "execution_count": 3,
   "metadata": {
    "pycharm": {
     "is_executing": false
    },
    "scrolled": true
   },
   "outputs": [
    {
     "name": "stdout",
     "output_type": "stream",
     "text": [
      "(20606, 153)\n"
     ]
    }
   ],
   "source": [
    "data = prep.import_data(occupant)\n",
    "print(np.shape(data))"
   ]
  },
  {
   "cell_type": "code",
   "execution_count": 6,
   "metadata": {
    "pycharm": {
     "is_executing": false
    },
    "scrolled": true
   },
   "outputs": [
    {
     "name": "stdout",
     "output_type": "stream",
     "text": [
      "dependency variable distribution:\n",
      " 0.0    0.643897\n",
      "1.0    0.356103\n",
      "Name: U3_is_heating, dtype: float64\n"
     ]
    }
   ],
   "source": [
    "target = '{}_is_heating'.format(occupant)\n",
    "cat_names = ['o_condition']\n",
    "cont_names = data.columns.drop(cat_names).to_numpy()\n",
    "print('dependency variable distribution:\\n', data[target].value_counts()/data.shape[0])"
   ]
  },
  {
   "cell_type": "code",
   "execution_count": 7,
   "metadata": {
    "pycharm": {
     "is_executing": false
    },
    "scrolled": false
   },
   "outputs": [
    {
     "name": "stdout",
     "output_type": "stream",
     "text": [
      "The target variable distribution is:\n",
      " 0.0    0.643897\n",
      "1.0    0.356103\n",
      "Name: U3_is_heating, dtype: float64\n",
      "X shape: (20598, 166)\n"
     ]
    }
   ],
   "source": [
    "naive_acc, naive_f1, pos_label, Y_df, X_df = prep.prepare_data(\n",
    "    data, target)"
   ]
  },
  {
   "cell_type": "markdown",
   "source": [
    "For this project I designed a novel kind of interval-stratified k-fold cross-validation. It seperates \n",
    "the data into k groups by data collection-intervals. Additionally, the resulting groups are\n",
    "of equal size and have an equal target variable distribution. Check the implementation \n",
    "for details. "
   ],
   "metadata": {
    "collapsed": false,
    "pycharm": {
     "name": "#%% md\n"
    }
   }
  },
  {
   "cell_type": "code",
   "execution_count": 8,
   "metadata": {
    "pycharm": {
     "is_executing": false
    },
    "scrolled": true
   },
   "outputs": [
    {
     "name": "stdout",
     "output_type": "stream",
     "text": [
      "Training and validation set sizes are:\n",
      " Fold 0:   train/valid  16491/4107   with 1465 positive labels\n",
      " Fold 1:   train/valid  16467/4131   with 1468 positive labels\n",
      " Fold 2:   train/valid  16496/4102   with 1469 positive labels\n",
      " Fold 3:   train/valid  16499/4099   with 1465 positive labels\n",
      " Fold 4:   train/valid  16439/4159   with 1468 positive labels\n"
     ]
    }
   ],
   "source": [
    "train_test_indices = prep.interval_stratified_k_fold_cross_validation(data, n_folds, target, rs, seed)"
   ]
  },
  {
   "cell_type": "code",
   "execution_count": 9,
   "metadata": {
    "pycharm": {
     "is_executing": false
    }
   },
   "outputs": [],
   "source": [
    "training_attributes = {\n",
    "    'occupant': occupant,\n",
    "    'pos_label': pos_label,\n",
    "    'X_df': X_df,\n",
    "    'X_array': np.array(X_df),\n",
    "    'Y_df': Y_df,\n",
    "    'Y_array': np.array(Y_df),\n",
    "    'train_test_indices': train_test_indices,\n",
    "    'train_test_indices_int': \\\n",
    "    prep.transform_date_time_index_to_int(\n",
    "        data, train_test_indices\n",
    "    )\n",
    "}"
   ]
  },
  {
   "cell_type": "code",
   "execution_count": null,
   "outputs": [],
   "source": [
    "plot_tuples = {}"
   ],
   "metadata": {
    "collapsed": false,
    "pycharm": {
     "name": "#%%\n"
    }
   }
  },
  {
   "cell_type": "markdown",
   "metadata": {},
   "source": [
    "# Randomized Grid Search"
   ]
  },
  {
   "cell_type": "code",
   "execution_count": 15,
   "metadata": {
    "pycharm": {
     "is_executing": false
    }
   },
   "outputs": [],
   "source": [
    "opt_methods = [\n",
    "    'RF-Clf_opt', \n",
    "    'GradientBDT_opt',\n",
    "    'LR_opt', \n",
    "    'kNN_opt',\n",
    "    'SVM_opt'\n",
    "]\n",
    "# leave out GaussianNB for occupant 3 after pre-selection\n",
    "if occupant != 'U3':\n",
    "    opt_methods.append('GaussianNB_opt')"
   ]
  },
  {
   "cell_type": "code",
   "execution_count": 16,
   "metadata": {},
   "outputs": [],
   "source": [
    "from scipy.stats import expon\n",
    "from scipy.stats import geom\n",
    "\n",
    "param_distributions = {}\n",
    "param_distributions['SVM_opt'] = {\n",
    "    'clf__C': expon(scale=100), \n",
    "    'clf__gamma': expon(scale=.1), \n",
    "    'clf__kernel': ['rbf', 'linear', 'sigmoid']\n",
    "}\n",
    "param_distributions['RF-Clf_opt'] = {\n",
    "    'clf__n_estimators': geom(0.006),\n",
    "    'clf__criterion': ['entropy', 'gini'],\n",
    "    'clf__bootstrap': [True, False],\n",
    "    'clf__max_features': ['auto', 'sqrt', 'log2'],\n",
    "    'clf__class_weight': [None, 'balanced', 'balanced_subsample']\n",
    "}\n",
    "param_distributions['LR_opt'] = {\n",
    "    'clf__penalty': ['l2', 'none'],\n",
    "    'clf__C': expon(scale=100),\n",
    "    'clf__fit_intercept': [True, False],\n",
    "    'clf__class_weight': [None, 'balanced'],\n",
    "    'clf__solver': ['newton-cg', 'lbfgs', 'liblinear', 'sag', 'saga']\n",
    "}\n",
    "param_distributions['GaussianNB_opt'] = {\n",
    "    'clf__var_smoothing': expon(scale=0.000000003)\n",
    "}\n",
    "param_distributions['GradientBDT_opt'] = {\n",
    "    'clf__loss': ['deviance', 'exponential'],\n",
    "    'clf__learning_rate': expon(scale=0.3),\n",
    "    'clf__n_estimators': geom(0.006),\n",
    "    'clf__subsample': [0.7, 0.9, 1.0],\n",
    "    'clf__max_features': ['auto', 'sqrt', 'log2']\n",
    "}\n",
    "param_distributions['kNN_opt'] = {\n",
    "    'clf__n_neighbors': geom(0.006),\n",
    "    'clf__weights': ['uniform', 'distance'],\n",
    "    'clf__algorithm': ['auto', 'ball_tree', 'kd_tree', 'brute'],\n",
    "    'clf__leaf_size': geom(0.00025),\n",
    "    'clf__p': [1, 2]\n",
    "}"
   ]
  },
  {
   "cell_type": "code",
   "execution_count": 17,
   "metadata": {
    "pycharm": {
     "name": "#%%\n"
    },
    "scrolled": true
   },
   "outputs": [],
   "source": [
    "n_iter = 200\n",
    "plot_tuples_new, random_searches = sci.run_random_search(\n",
    "    opt_methods, param_distributions, n_iter, training_attributes, rs\n",
    ")\n",
    "for method in plot_tuples_new:\n",
    "    plot_tuples[method] = plot_tuples_new[method]"
   ]
  },
  {
   "cell_type": "markdown",
   "metadata": {
    "pycharm": {
     "name": "#%% md\n"
    }
   },
   "source": [
    "In check_random_search_results.ipynb I compare the results of this randomized search. \n",
    "Afterwards I run refit_with_optimized_parameters.ipynb to refit all the models with \n",
    "the optimal parameters with three different seeds as is good practice  \n"
   ]
  }
 ],
 "metadata": {
  "kernelspec": {
   "display_name": "Python 3",
   "language": "python",
   "name": "python3"
  },
  "language_info": {
   "codemirror_mode": {
    "name": "ipython",
    "version": 3
   },
   "file_extension": ".py",
   "mimetype": "text/x-python",
   "name": "python",
   "nbconvert_exporter": "python",
   "pygments_lexer": "ipython3",
   "version": "3.7.6"
  },
  "pycharm": {
   "stem_cell": {
    "cell_type": "raw",
    "source": [],
    "metadata": {
     "collapsed": false
    }
   }
  }
 },
 "nbformat": 4,
 "nbformat_minor": 2
}