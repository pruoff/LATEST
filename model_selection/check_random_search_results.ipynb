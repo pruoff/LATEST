{
 "cells": [
  {
   "cell_type": "markdown",
   "metadata": {
    "pycharm": {
     "name": "#%% md\n"
    }
   },
   "source": [
    "# Check the results from randomized search\n",
    "\n",
    "Using Python 3.7 and fast.ai v2\n",
    "\n",
    "Author: Patrick Ruoff\n",
    "\n",
    "Date: January 2020"
   ]
  },
  {
   "cell_type": "code",
   "execution_count": 1,
   "metadata": {},
   "outputs": [],
   "source": [
    "import numpy as np\n",
    "\n",
    "import data_preparation_methods as prep\n",
    "import analysis_methods as ana"
   ]
  },
  {
   "cell_type": "code",
   "execution_count": 2,
   "metadata": {
    "scrolled": true
   },
   "outputs": [],
   "source": [
    "opt_methods = [\n",
    "    'RF-Clf_opt', \n",
    "    'LR_opt',\n",
    "    'GaussianNB_opt', \n",
    "    'kNN_opt',\n",
    "    'SVM_opt',\n",
    "    'GradientBDT_opt'\n",
    "]\n",
    "from matplotlib import pyplot as plt\n",
    "%matplotlib inline\n",
    "plt.rcParams['figure.figsize'] = [5, 7.5]\n",
    "plt.rcParams['axes.titlesize'] = 'xx-large'\n",
    "n_folds = 5"
   ]
  },
  {
   "cell_type": "code",
   "execution_count": 3,
   "metadata": {},
   "outputs": [],
   "source": [
    "figs = {}\n",
    "def plot_users_randomized_search_boxplot(occupant, path_of_searches, iter_count):\n",
    "    \"\"\" Plot \n",
    "    \n",
    "    :param occupant: occupant ID\n",
    "    :param path_of_searches: path where ranomdized_search pickles are stored\n",
    "    :param iter_count: iteration count of randomized_searches\n",
    "    :return: dataframe of \n",
    "    \"\"\"\n",
    "    data = prep.import_data(occupant)\n",
    "    target = '{}_is_heating'.format(occupant)\n",
    "    cat_names = ['o_condition']\n",
    "    cont_names = data.columns.drop(cat_names).to_numpy()\n",
    "    naive_acc, naive_f1, pos_label, Y_df, X_df = prep.prepare_data(\n",
    "        data, target)\n",
    "    df, method_plot_names = ana.prepare_plot_of_search_results(\n",
    "            opt_methods, occupant, path_of_searches, iter_count)\n",
    "    figs[occupant] = df.boxplot()\n",
    "    # figs[occupant].set_title('F1-Score Boxplot for {}\\'s randomized Grid Search on {}\n",
    "    # datapoints'.format(user, len(Y_df)))\n",
    "    figs[occupant].axhline(y=naive_f1, xmin=0.015, xmax=0.985, color='black')\n",
    "    figs[occupant].set_xlabel('Method')\n",
    "    figs[occupant].set_ylabel('Average F1-Score')\n",
    "    plt.savefig('plots/{}_randomized_search_boxplot.png'.format(occupant), dpi=300)\n",
    "    return df"
   ]
  },
  {
   "cell_type": "code",
   "execution_count": 4,
   "metadata": {
    "scrolled": false
   },
   "outputs": [
    {
     "name": "stdout",
     "output_type": "stream",
     "text": [
      "The target variable distribution is:\n",
      " 0.0    0.972659\n",
      "1.0    0.027341\n",
      "Name: U1_is_heating, dtype: float64\n",
      "X shape: (3621, 165)\n",
      "The ordered f1-scores are:  [(b'kNN_opt', 0.98603493) (b'SVM_opt', 0.98603493)\n",
      " (b'GradientBDT_opt', 0.98603493) (b'GaussianNB_opt', 0.98534316)\n",
      " (b'RF-Clf_opt', 0.97464067) (b'LR_opt', 0.97460311)]\n"
     ]
    },
    {
     "data": {
      "text/html": [
       "<div>\n",
       "<style scoped>\n",
       "    .dataframe tbody tr th:only-of-type {\n",
       "        vertical-align: middle;\n",
       "    }\n",
       "\n",
       "    .dataframe tbody tr th {\n",
       "        vertical-align: top;\n",
       "    }\n",
       "\n",
       "    .dataframe thead th {\n",
       "        text-align: right;\n",
       "    }\n",
       "</style>\n",
       "<table border=\"1\" class=\"dataframe\">\n",
       "  <thead>\n",
       "    <tr style=\"text-align: right;\">\n",
       "      <th></th>\n",
       "      <th>kNN</th>\n",
       "      <th>SVM</th>\n",
       "      <th>GBDT</th>\n",
       "      <th>GNB</th>\n",
       "      <th>RF</th>\n",
       "      <th>LR</th>\n",
       "    </tr>\n",
       "  </thead>\n",
       "  <tbody>\n",
       "    <tr>\n",
       "      <th>0</th>\n",
       "      <td>0.986035</td>\n",
       "      <td>0.969560</td>\n",
       "      <td>0.973741</td>\n",
       "      <td>0.985343</td>\n",
       "      <td>0.973760</td>\n",
       "      <td>0.774389</td>\n",
       "    </tr>\n",
       "    <tr>\n",
       "      <th>1</th>\n",
       "      <td>0.986035</td>\n",
       "      <td>0.983245</td>\n",
       "      <td>0.974201</td>\n",
       "      <td>0.985343</td>\n",
       "      <td>0.971231</td>\n",
       "      <td>0.973880</td>\n",
       "    </tr>\n",
       "    <tr>\n",
       "      <th>2</th>\n",
       "      <td>0.986035</td>\n",
       "      <td>0.969958</td>\n",
       "      <td>0.974641</td>\n",
       "      <td>0.985343</td>\n",
       "      <td>0.973907</td>\n",
       "      <td>0.819623</td>\n",
       "    </tr>\n",
       "    <tr>\n",
       "      <th>3</th>\n",
       "      <td>0.972429</td>\n",
       "      <td>0.986035</td>\n",
       "      <td>0.974641</td>\n",
       "      <td>0.985343</td>\n",
       "      <td>0.971081</td>\n",
       "      <td>0.970842</td>\n",
       "    </tr>\n",
       "    <tr>\n",
       "      <th>4</th>\n",
       "      <td>0.974641</td>\n",
       "      <td>0.975830</td>\n",
       "      <td>0.974054</td>\n",
       "      <td>0.985343</td>\n",
       "      <td>0.972427</td>\n",
       "      <td>0.974028</td>\n",
       "    </tr>\n",
       "    <tr>\n",
       "      <th>...</th>\n",
       "      <td>...</td>\n",
       "      <td>...</td>\n",
       "      <td>...</td>\n",
       "      <td>...</td>\n",
       "      <td>...</td>\n",
       "      <td>...</td>\n",
       "    </tr>\n",
       "    <tr>\n",
       "      <th>195</th>\n",
       "      <td>0.986035</td>\n",
       "      <td>0.969560</td>\n",
       "      <td>0.986035</td>\n",
       "      <td>0.985343</td>\n",
       "      <td>0.969416</td>\n",
       "      <td>0.850212</td>\n",
       "    </tr>\n",
       "    <tr>\n",
       "      <th>196</th>\n",
       "      <td>0.986035</td>\n",
       "      <td>0.969560</td>\n",
       "      <td>0.979302</td>\n",
       "      <td>0.985343</td>\n",
       "      <td>0.971231</td>\n",
       "      <td>0.778467</td>\n",
       "    </tr>\n",
       "    <tr>\n",
       "      <th>197</th>\n",
       "      <td>0.972579</td>\n",
       "      <td>0.981969</td>\n",
       "      <td>0.976027</td>\n",
       "      <td>0.985343</td>\n",
       "      <td>0.974201</td>\n",
       "      <td>0.827081</td>\n",
       "    </tr>\n",
       "    <tr>\n",
       "      <th>198</th>\n",
       "      <td>0.973026</td>\n",
       "      <td>0.969560</td>\n",
       "      <td>0.972024</td>\n",
       "      <td>0.985343</td>\n",
       "      <td>0.971081</td>\n",
       "      <td>0.827406</td>\n",
       "    </tr>\n",
       "    <tr>\n",
       "      <th>199</th>\n",
       "      <td>0.986035</td>\n",
       "      <td>0.981428</td>\n",
       "      <td>0.973414</td>\n",
       "      <td>0.985343</td>\n",
       "      <td>0.971081</td>\n",
       "      <td>0.827031</td>\n",
       "    </tr>\n",
       "  </tbody>\n",
       "</table>\n",
       "<p>200 rows × 6 columns</p>\n",
       "</div>"
      ],
      "text/plain": [
       "          kNN       SVM      GBDT       GNB        RF        LR\n",
       "0    0.986035  0.969560  0.973741  0.985343  0.973760  0.774389\n",
       "1    0.986035  0.983245  0.974201  0.985343  0.971231  0.973880\n",
       "2    0.986035  0.969958  0.974641  0.985343  0.973907  0.819623\n",
       "3    0.972429  0.986035  0.974641  0.985343  0.971081  0.970842\n",
       "4    0.974641  0.975830  0.974054  0.985343  0.972427  0.974028\n",
       "..        ...       ...       ...       ...       ...       ...\n",
       "195  0.986035  0.969560  0.986035  0.985343  0.969416  0.850212\n",
       "196  0.986035  0.969560  0.979302  0.985343  0.971231  0.778467\n",
       "197  0.972579  0.981969  0.976027  0.985343  0.974201  0.827081\n",
       "198  0.973026  0.969560  0.972024  0.985343  0.971081  0.827406\n",
       "199  0.986035  0.981428  0.973414  0.985343  0.971081  0.827031\n",
       "\n",
       "[200 rows x 6 columns]"
      ]
     },
     "execution_count": 4,
     "metadata": {},
     "output_type": "execute_result"
    },
    {
     "data": {
      "image/png": "[encoded data removed]",
      "text/plain": [
       "<Figure size 360x540 with 1 Axes>"
      ]
     },
     "metadata": {
      "needs_background": "light"
     },
     "output_type": "display_data"
    }
   ],
   "source": [
    "plot_users_randomized_search_boxplot('U1', './search_results', 200)"
   ]
  },
  {
   "cell_type": "markdown",
   "metadata": {
    "pycharm": {
     "name": "#%% md\n"
    }
   },
   "source": [
    "Interestingly, kNN, SVM, and GBDT all have a maximum f1-score of 0.98603493."
   ]
  },
  {
   "cell_type": "code",
   "execution_count": 5,
   "metadata": {
    "pycharm": {
     "name": "#%%\n"
    },
    "scrolled": true
   },
   "outputs": [
    {
     "name": "stdout",
     "output_type": "stream",
     "text": [
      "The target variable distribution is:\n",
      " 0.0    0.79562\n",
      "1.0    0.20438\n",
      "Name: U2_is_heating, dtype: float64\n",
      "X shape: (2466, 159)\n",
      "The ordered f1-scores are:  [(b'kNN_opt', 0.98405248) (b'GradientBDT_opt', 0.9753184 )\n",
      " (b'SVM_opt', 0.97460671) (b'RF-Clf_opt', 0.96429944)\n",
      " (b'GaussianNB_opt', 0.95568742) (b'LR_opt', 0.95532252)]\n"
     ]
    },
    {
     "data": {
      "text/html": [
       "<div>\n",
       "<style scoped>\n",
       "    .dataframe tbody tr th:only-of-type {\n",
       "        vertical-align: middle;\n",
       "    }\n",
       "\n",
       "    .dataframe tbody tr th {\n",
       "        vertical-align: top;\n",
       "    }\n",
       "\n",
       "    .dataframe thead th {\n",
       "        text-align: right;\n",
       "    }\n",
       "</style>\n",
       "<table border=\"1\" class=\"dataframe\">\n",
       "  <thead>\n",
       "    <tr style=\"text-align: right;\">\n",
       "      <th></th>\n",
       "      <th>kNN</th>\n",
       "      <th>GBDT</th>\n",
       "      <th>SVM</th>\n",
       "      <th>RF</th>\n",
       "      <th>GNB</th>\n",
       "      <th>LR</th>\n",
       "    </tr>\n",
       "  </thead>\n",
       "  <tbody>\n",
       "    <tr>\n",
       "      <th>0</th>\n",
       "      <td>0.961459</td>\n",
       "      <td>0.964299</td>\n",
       "      <td>0.939647</td>\n",
       "      <td>0.964299</td>\n",
       "      <td>0.955687</td>\n",
       "      <td>0.823968</td>\n",
       "    </tr>\n",
       "    <tr>\n",
       "      <th>1</th>\n",
       "      <td>0.982929</td>\n",
       "      <td>0.964299</td>\n",
       "      <td>0.862459</td>\n",
       "      <td>0.954357</td>\n",
       "      <td>0.955687</td>\n",
       "      <td>0.806159</td>\n",
       "    </tr>\n",
       "    <tr>\n",
       "      <th>2</th>\n",
       "      <td>0.982929</td>\n",
       "      <td>0.964299</td>\n",
       "      <td>0.939647</td>\n",
       "      <td>0.954357</td>\n",
       "      <td>0.955687</td>\n",
       "      <td>0.831230</td>\n",
       "    </tr>\n",
       "    <tr>\n",
       "      <th>3</th>\n",
       "      <td>0.976594</td>\n",
       "      <td>0.964299</td>\n",
       "      <td>0.939647</td>\n",
       "      <td>0.954357</td>\n",
       "      <td>0.955687</td>\n",
       "      <td>0.832747</td>\n",
       "    </tr>\n",
       "    <tr>\n",
       "      <th>4</th>\n",
       "      <td>0.959988</td>\n",
       "      <td>0.964299</td>\n",
       "      <td>0.939647</td>\n",
       "      <td>0.954357</td>\n",
       "      <td>0.955687</td>\n",
       "      <td>0.843016</td>\n",
       "    </tr>\n",
       "    <tr>\n",
       "      <th>...</th>\n",
       "      <td>...</td>\n",
       "      <td>...</td>\n",
       "      <td>...</td>\n",
       "      <td>...</td>\n",
       "      <td>...</td>\n",
       "      <td>...</td>\n",
       "    </tr>\n",
       "    <tr>\n",
       "      <th>195</th>\n",
       "      <td>0.965690</td>\n",
       "      <td>0.964299</td>\n",
       "      <td>0.885604</td>\n",
       "      <td>0.964299</td>\n",
       "      <td>0.955687</td>\n",
       "      <td>0.826062</td>\n",
       "    </tr>\n",
       "    <tr>\n",
       "      <th>196</th>\n",
       "      <td>0.965966</td>\n",
       "      <td>0.964299</td>\n",
       "      <td>0.939647</td>\n",
       "      <td>0.964299</td>\n",
       "      <td>0.955687</td>\n",
       "      <td>NaN</td>\n",
       "    </tr>\n",
       "    <tr>\n",
       "      <th>197</th>\n",
       "      <td>0.959988</td>\n",
       "      <td>0.885604</td>\n",
       "      <td>0.847371</td>\n",
       "      <td>0.964299</td>\n",
       "      <td>0.955687</td>\n",
       "      <td>0.829634</td>\n",
       "    </tr>\n",
       "    <tr>\n",
       "      <th>198</th>\n",
       "      <td>0.961459</td>\n",
       "      <td>0.964299</td>\n",
       "      <td>0.939647</td>\n",
       "      <td>0.964299</td>\n",
       "      <td>0.955687</td>\n",
       "      <td>0.829883</td>\n",
       "    </tr>\n",
       "    <tr>\n",
       "      <th>199</th>\n",
       "      <td>0.965417</td>\n",
       "      <td>0.964299</td>\n",
       "      <td>0.939647</td>\n",
       "      <td>0.964299</td>\n",
       "      <td>0.955687</td>\n",
       "      <td>NaN</td>\n",
       "    </tr>\n",
       "  </tbody>\n",
       "</table>\n",
       "<p>200 rows × 6 columns</p>\n",
       "</div>"
      ],
      "text/plain": [
       "          kNN      GBDT       SVM        RF       GNB        LR\n",
       "0    0.961459  0.964299  0.939647  0.964299  0.955687  0.823968\n",
       "1    0.982929  0.964299  0.862459  0.954357  0.955687  0.806159\n",
       "2    0.982929  0.964299  0.939647  0.954357  0.955687  0.831230\n",
       "3    0.976594  0.964299  0.939647  0.954357  0.955687  0.832747\n",
       "4    0.959988  0.964299  0.939647  0.954357  0.955687  0.843016\n",
       "..        ...       ...       ...       ...       ...       ...\n",
       "195  0.965690  0.964299  0.885604  0.964299  0.955687  0.826062\n",
       "196  0.965966  0.964299  0.939647  0.964299  0.955687       NaN\n",
       "197  0.959988  0.885604  0.847371  0.964299  0.955687  0.829634\n",
       "198  0.961459  0.964299  0.939647  0.964299  0.955687  0.829883\n",
       "199  0.965417  0.964299  0.939647  0.964299  0.955687       NaN\n",
       "\n",
       "[200 rows x 6 columns]"
      ]
     },
     "execution_count": 5,
     "metadata": {},
     "output_type": "execute_result"
    },
    {
     "data": {
      "image/png": "[encoded data removed]",
      "text/plain": [
       "<Figure size 360x540 with 1 Axes>"
      ]
     },
     "metadata": {
      "needs_background": "light"
     },
     "output_type": "display_data"
    }
   ],
   "source": [
    "opt_methods = [\n",
    "    'RF-Clf_opt', \n",
    "    'GradientBDT_opt',\n",
    "    'SVM_opt',\n",
    "    'GaussianNB_opt', \n",
    "    'kNN_opt',\n",
    "    'LR_opt',\n",
    "]\n",
    "plot_users_randomized_search_boxplot('U2', './search_results', 200)"
   ]
  },
  {
   "cell_type": "code",
   "execution_count": 6,
   "metadata": {
    "pycharm": {
     "name": "#%%\n"
    },
    "scrolled": false
   },
   "outputs": [
    {
     "name": "stdout",
     "output_type": "stream",
     "text": [
      "The target variable distribution is:\n",
      " 0.0    0.644036\n",
      "1.0    0.355964\n",
      "Name: U3_is_heating, dtype: float64\n",
      "X shape: (20606, 166)\n",
      "The ordered f1-scores are:  [(b'RF-Clf_opt', 0.95791953) (b'GradientBDT_opt', 0.95660187)\n",
      " (b'SVM_opt', 0.94146146) (b'kNN_opt', 0.93106437) (b'LR_opt', 0.85286904)]\n"
     ]
    },
    {
     "data": {
      "text/html": [
       "<div>\n",
       "<style scoped>\n",
       "    .dataframe tbody tr th:only-of-type {\n",
       "        vertical-align: middle;\n",
       "    }\n",
       "\n",
       "    .dataframe tbody tr th {\n",
       "        vertical-align: top;\n",
       "    }\n",
       "\n",
       "    .dataframe thead th {\n",
       "        text-align: right;\n",
       "    }\n",
       "</style>\n",
       "<table border=\"1\" class=\"dataframe\">\n",
       "  <thead>\n",
       "    <tr style=\"text-align: right;\">\n",
       "      <th></th>\n",
       "      <th>RF</th>\n",
       "      <th>GBDT</th>\n",
       "      <th>SVM</th>\n",
       "      <th>kNN</th>\n",
       "      <th>LR</th>\n",
       "    </tr>\n",
       "  </thead>\n",
       "  <tbody>\n",
       "    <tr>\n",
       "      <th>0</th>\n",
       "      <td>0.955095</td>\n",
       "      <td>0.916828</td>\n",
       "      <td>0.705521</td>\n",
       "      <td>0.918159</td>\n",
       "      <td>0.806226</td>\n",
       "    </tr>\n",
       "    <tr>\n",
       "      <th>1</th>\n",
       "      <td>0.944092</td>\n",
       "      <td>0.939198</td>\n",
       "      <td>0.667044</td>\n",
       "      <td>0.925639</td>\n",
       "      <td>0.807170</td>\n",
       "    </tr>\n",
       "    <tr>\n",
       "      <th>2</th>\n",
       "      <td>0.948091</td>\n",
       "      <td>0.949022</td>\n",
       "      <td>0.657538</td>\n",
       "      <td>0.925506</td>\n",
       "      <td>0.805137</td>\n",
       "    </tr>\n",
       "    <tr>\n",
       "      <th>3</th>\n",
       "      <td>0.952704</td>\n",
       "      <td>0.948794</td>\n",
       "      <td>0.691128</td>\n",
       "      <td>0.888222</td>\n",
       "      <td>0.807639</td>\n",
       "    </tr>\n",
       "    <tr>\n",
       "      <th>4</th>\n",
       "      <td>0.949781</td>\n",
       "      <td>0.945476</td>\n",
       "      <td>0.730006</td>\n",
       "      <td>0.884880</td>\n",
       "      <td>0.806360</td>\n",
       "    </tr>\n",
       "    <tr>\n",
       "      <th>...</th>\n",
       "      <td>...</td>\n",
       "      <td>...</td>\n",
       "      <td>...</td>\n",
       "      <td>...</td>\n",
       "      <td>...</td>\n",
       "    </tr>\n",
       "    <tr>\n",
       "      <th>195</th>\n",
       "      <td>0.946411</td>\n",
       "      <td>0.932252</td>\n",
       "      <td>0.785602</td>\n",
       "      <td>0.925196</td>\n",
       "      <td>0.806889</td>\n",
       "    </tr>\n",
       "    <tr>\n",
       "      <th>196</th>\n",
       "      <td>0.955341</td>\n",
       "      <td>0.948645</td>\n",
       "      <td>0.640661</td>\n",
       "      <td>0.920795</td>\n",
       "      <td>NaN</td>\n",
       "    </tr>\n",
       "    <tr>\n",
       "      <th>197</th>\n",
       "      <td>0.956572</td>\n",
       "      <td>0.805964</td>\n",
       "      <td>0.646215</td>\n",
       "      <td>0.887943</td>\n",
       "      <td>0.807514</td>\n",
       "    </tr>\n",
       "    <tr>\n",
       "      <th>198</th>\n",
       "      <td>0.955372</td>\n",
       "      <td>0.941839</td>\n",
       "      <td>0.699403</td>\n",
       "      <td>0.919928</td>\n",
       "      <td>0.807099</td>\n",
       "    </tr>\n",
       "    <tr>\n",
       "      <th>199</th>\n",
       "      <td>0.956575</td>\n",
       "      <td>0.943386</td>\n",
       "      <td>0.691500</td>\n",
       "      <td>0.879234</td>\n",
       "      <td>NaN</td>\n",
       "    </tr>\n",
       "  </tbody>\n",
       "</table>\n",
       "<p>200 rows × 5 columns</p>\n",
       "</div>"
      ],
      "text/plain": [
       "           RF      GBDT       SVM       kNN        LR\n",
       "0    0.955095  0.916828  0.705521  0.918159  0.806226\n",
       "1    0.944092  0.939198  0.667044  0.925639  0.807170\n",
       "2    0.948091  0.949022  0.657538  0.925506  0.805137\n",
       "3    0.952704  0.948794  0.691128  0.888222  0.807639\n",
       "4    0.949781  0.945476  0.730006  0.884880  0.806360\n",
       "..        ...       ...       ...       ...       ...\n",
       "195  0.946411  0.932252  0.785602  0.925196  0.806889\n",
       "196  0.955341  0.948645  0.640661  0.920795       NaN\n",
       "197  0.956572  0.805964  0.646215  0.887943  0.807514\n",
       "198  0.955372  0.941839  0.699403  0.919928  0.807099\n",
       "199  0.956575  0.943386  0.691500  0.879234       NaN\n",
       "\n",
       "[200 rows x 5 columns]"
      ]
     },
     "execution_count": 6,
     "metadata": {},
     "output_type": "execute_result"
    },
    {
     "data": {
      "image/png": "[encoded data removed]",
      "text/plain": [
       "<Figure size 360x540 with 1 Axes>"
      ]
     },
     "metadata": {
      "needs_background": "light"
     },
     "output_type": "display_data"
    }
   ],
   "source": [
    "# not GNB for O3 because of results of pre_selection\n",
    "opt_methods = [\n",
    "    'RF-Clf_opt', \n",
    "    'GradientBDT_opt',\n",
    "    'LR_opt',\n",
    "    'kNN_opt',\n",
    "    'SVM_opt'\n",
    "]\n",
    "plot_users_randomized_search_boxplot('U3', './search_results', 200)"
   ]
  },
  {
   "cell_type": "markdown",
   "metadata": {},
   "source": [
    "For both U1 and U2 kNN was the best model and RF for U3"
   ]
  },
  {
   "cell_type": "markdown",
   "metadata": {
    "pycharm": {
     "name": "#%% md\n"
    }
   },
   "source": [
    "Seeing which methdos performed best after parameter optimization,\n",
    "I ran refit_with_optimized_parameters.ipynb to refit all the models with \n",
    "the optimal parameters with three different seeds as is good practice. There, I also checked the SHAP-explainers \n",
    "execution times for these models to see if they are fit for deployment in LATEST."
   ]
  }
 ],
 "metadata": {
  "kernelspec": {
   "display_name": "Python 3",
   "language": "python",
   "name": "python3"
  },
  "language_info": {
   "codemirror_mode": {
    "name": "ipython",
    "version": 3
   },
   "file_extension": ".py",
   "mimetype": "text/x-python",
   "name": "python",
   "nbconvert_exporter": "python",
   "pygments_lexer": "ipython3",
   "version": "3.7.6"
  },
  "pycharm": {
   "stem_cell": {
    "cell_type": "raw",
    "metadata": {
     "collapsed": false
    },
    "source": []
   }
  }
 },
 "nbformat": 4,
 "nbformat_minor": 4
}
