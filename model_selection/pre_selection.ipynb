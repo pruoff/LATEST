{
 "cells": [
  {
   "cell_type": "markdown",
   "metadata": {},
   "source": [
    "# Predict occupant heating behavior from biosignal and environmental data\n",
    "Using Python 3.7 and fast.ai v2\n",
    "\n",
    "Author: Patrick Ruoff\n",
    "\n",
    "Date: January 2020"
   ]
  },
  {
   "cell_type": "code",
   "execution_count": 1,
   "metadata": {
    "pycharm": {
     "is_executing": false
    }
   },
   "outputs": [],
   "source": [
    "import pandas as pd\n",
    "import numpy as np\n",
    "\n",
    "import data_preparation_methods as prep\n",
    "import analysis_methods as ana\n",
    "import scikitlearn_methods as sci\n",
    "import fastai_methods as fast\n",
    "\n",
    "seed = 42\n",
    "rs = np.random.RandomState()\n",
    "rs.seed(seed)"
   ]
  },
  {
   "cell_type": "markdown",
   "metadata": {},
   "source": [
    "There are 3 occupants in the data set that I collected: 'U1', 'U2', or 'U3'. This notebook\n",
    "is implemented to run the model_selection for one single occupant. I used it for analyzing \n",
    "the data for all three occupants one after the other. Here, I show the results for occupant 'U1'."
   ]
  },
  {
   "cell_type": "code",
   "execution_count": 2,
   "metadata": {
    "pycharm": {
     "is_executing": false
    }
   },
   "outputs": [],
   "source": [
    "occupant = 'U2'\n",
    "n_folds = 5"
   ]
  },
  {
   "cell_type": "code",
   "execution_count": 3,
   "metadata": {
    "pycharm": {
     "is_executing": false
    },
    "scrolled": true
   },
   "outputs": [
    {
     "name": "stdout",
     "output_type": "stream",
     "text": [
      "(2466, 153)\n"
     ]
    }
   ],
   "source": [
    "data = prep.import_data(occupant)\n",
    "print(np.shape(data))"
   ]
  },
  {
   "cell_type": "markdown",
   "metadata": {},
   "source": [
    "If values are still missing, they are shown here"
   ]
  },
  {
   "cell_type": "code",
   "execution_count": 4,
   "metadata": {
    "pycharm": {
     "is_executing": false
    },
    "scrolled": true
   },
   "outputs": [],
   "source": [
    "with pd.option_context('display.max_rows', None, 'display.max_columns', None):\n",
    "    prep.print_missing_entries(data)"
   ]
  },
  {
   "cell_type": "code",
   "execution_count": 5,
   "metadata": {
    "pycharm": {
     "is_executing": false
    }
   },
   "outputs": [],
   "source": [
    "if data.isna().any().any():\n",
    "    print('WARNING there are still values missing!\\nDeleting these rows for now..')\n",
    "    data = data.drop(index=data.index[data.isna().any(axis=1)])\n",
    "    "
   ]
  },
  {
   "cell_type": "code",
   "execution_count": 6,
   "metadata": {
    "pycharm": {
     "is_executing": false
    },
    "scrolled": true
   },
   "outputs": [
    {
     "name": "stdout",
     "output_type": "stream",
     "text": [
      "dependency variable distribution:\n",
      " 0.0    0.79562\n",
      "1.0    0.20438\n",
      "Name: U2_is_heating, dtype: float64\n"
     ]
    }
   ],
   "source": [
    "target = '{}_is_heating'.format(occupant)\n",
    "cat_names = ['o_condition']\n",
    "cont_names = data.columns.drop(cat_names).to_numpy()\n",
    "print('dependency variable distribution:\\n', data[target].value_counts()/data.shape[0])"
   ]
  },
  {
   "cell_type": "code",
   "execution_count": 7,
   "metadata": {
    "pycharm": {
     "is_executing": false
    },
    "scrolled": false
   },
   "outputs": [
    {
     "name": "stdout",
     "output_type": "stream",
     "text": [
      "The target variable distribution is:\n",
      " 0.0    0.79562\n",
      "1.0    0.20438\n",
      "Name: U2_is_heating, dtype: float64\n",
      "X shape: (2466, 159)\n"
     ]
    }
   ],
   "source": [
    "naive_acc, naive_f1, pos_label, Y_df, X_df = prep.prepare_data(\n",
    "    data, target)"
   ]
  },
  {
   "cell_type": "markdown",
   "metadata": {},
   "source": [
    "97% of the data belongs to target value 0, meaning the heater was turned off. For the highly unbalanced distribution of the target values, I used the f1-score to compare the ML models' performances. Accuracy is also given for comparison."
   ]
  },
  {
   "cell_type": "markdown",
   "metadata": {
    "pycharm": {
     "name": "#%% md\n"
    }
   },
   "source": [
    "For this project I designed a novel kind of interval-stratified k-fold cross-validation. It seperates \n",
    "the data into k groups by data collection-intervals. Additionally, the resulting groups are\n",
    "of equal size and have an equal target variable distribution. Check the implementation \n",
    "for details. "
   ]
  },
  {
   "cell_type": "code",
   "execution_count": 8,
   "metadata": {
    "pycharm": {
     "is_executing": false
    },
    "scrolled": true
   },
   "outputs": [
    {
     "name": "stdout",
     "output_type": "stream",
     "text": [
      "Training and validation set sizes are:\n",
      " Fold 0:   train/valid  1939/527   with 103 positive labels\n",
      " Fold 1:   train/valid  1994/472   with 109 positive labels\n",
      " Fold 2:   train/valid  1996/470   with 83 positive labels\n",
      " Fold 3:   train/valid  1924/542   with 105 positive labels\n",
      " Fold 4:   train/valid  2011/455   with 104 positive labels\n"
     ]
    }
   ],
   "source": [
    "train_test_indices = prep.interval_stratified_k_fold_cross_validation(data, n_folds, target, rs, seed)"
   ]
  },
  {
   "cell_type": "code",
   "execution_count": 9,
   "metadata": {
    "pycharm": {
     "is_executing": false
    }
   },
   "outputs": [],
   "source": [
    "training_attributes = {\n",
    "    'occupant': occupant,\n",
    "    'pos_label': pos_label,\n",
    "    'X_df': X_df,\n",
    "    'X_array': np.array(X_df),\n",
    "    'Y_df': Y_df,\n",
    "    'Y_array': np.array(Y_df),\n",
    "    'train_test_indices': train_test_indices,\n",
    "    'train_test_indices_int': \\\n",
    "    prep.transform_date_time_index_to_int(\n",
    "        data, train_test_indices\n",
    "    )\n",
    "}"
   ]
  },
  {
   "cell_type": "code",
   "execution_count": 10,
   "metadata": {
    "pycharm": {
     "is_executing": false
    }
   },
   "outputs": [],
   "source": [
    "# ingore warnings if you know what you're doing\n",
    "import warnings\n",
    "warnings.filterwarnings('ignore')"
   ]
  },
  {
   "cell_type": "code",
   "execution_count": 11,
   "metadata": {
    "pycharm": {
     "is_executing": false,
     "name": "#%%\n"
    }
   },
   "outputs": [],
   "source": [
    "plot_tuples = {}"
   ]
  },
  {
   "cell_type": "markdown",
   "metadata": {},
   "source": [
    "# scikit-learn classification methods"
   ]
  },
  {
   "cell_type": "code",
   "execution_count": 12,
   "metadata": {
    "pycharm": {
     "is_executing": false
    }
   },
   "outputs": [],
   "source": [
    "methods = [\n",
    "     'SVM-lin', \n",
    "     'RF-Clf',\n",
    "     'LR',\n",
    "     'GaussianNB',\n",
    "     'GradientBDT',\n",
    "     'kNN'\n",
    "]"
   ]
  },
  {
   "cell_type": "code",
   "execution_count": 13,
   "metadata": {
    "pycharm": {
     "is_executing": false
    },
    "scrolled": true
   },
   "outputs": [
    {
     "name": "stdout",
     "output_type": "stream",
     "text": [
      "Running SVM with linear kernel and 5-Fold-Cross Validation..\n",
      "Running fold 0 of 5.\n",
      "Running fold 1 of 5.\n",
      "Running fold 2 of 5.\n",
      "Running fold 3 of 5.\n",
      "Running fold 4 of 5.\n",
      "Learning took 1.4094338417053223 and Inference took 0.2947506904602051 seconds.\n",
      "Running Random Forest Classifier with 5-Fold-Cross Validation..\n",
      "Running fold 0 of 5.\n",
      "Running fold 1 of 5.\n",
      "Running fold 2 of 5.\n",
      "Running fold 3 of 5.\n",
      "Running fold 4 of 5.\n",
      "Learning took 3.01452898979187 and Inference took 0.11773991584777832 seconds.\n",
      "Running Logistic Regression with 5-Fold-Cross Validation..\n",
      "Running fold 0 of 5.\n",
      "Running fold 1 of 5.\n",
      "Running fold 2 of 5.\n",
      "Running fold 3 of 5.\n",
      "Running fold 4 of 5.\n",
      "Learning took 0.387897253036499 and Inference took 0.03315401077270508 seconds.\n",
      "Running Gaussian Naive Bayes with 5-Fold-Cross Validation..\n",
      "Running fold 0 of 5.\n",
      "Running fold 1 of 5.\n",
      "Running fold 2 of 5.\n",
      "Running fold 3 of 5.\n",
      "Running fold 4 of 5.\n",
      "Learning took 0.02573418617248535 and Inference took 0.028122425079345703 seconds.\n",
      "Running Gradient Boosting Desicion Trees with 5-Fold-Cross Validation..\n",
      "Running fold 0 of 5.\n",
      "Running fold 1 of 5.\n",
      "Running fold 2 of 5.\n",
      "Running fold 3 of 5.\n",
      "Running fold 4 of 5.\n",
      "Learning took 11.419820308685303 and Inference took 0.028760910034179688 seconds.\n",
      "Running k-Nearest Neighbors with Statified-5-Fold-Cross Validation..\n",
      "Running fold 0 of 5.\n",
      "Running fold 1 of 5.\n",
      "Running fold 2 of 5.\n",
      "Running fold 3 of 5.\n",
      "Running fold 4 of 5.\n",
      "Learning took 0.07051467895507812 and Inference took 0.26093482971191406 seconds.\n"
     ]
    }
   ],
   "source": [
    "plot_tuples_new = sci.fit_scikit_learn_methods(\n",
    "    methods=methods, training_attributes=training_attributes, rs=rs)\n",
    "for method in plot_tuples_new:\n",
    "    plot_tuples[method] = plot_tuples_new[method]"
   ]
  },
  {
   "cell_type": "markdown",
   "metadata": {},
   "source": [
    "# fastai"
   ]
  },
  {
   "cell_type": "markdown",
   "metadata": {},
   "source": [
    "fastai's tabular learner implementation was considered in pre-selection as well. "
   ]
  },
  {
   "cell_type": "code",
   "execution_count": 14,
   "metadata": {
    "pycharm": {
     "is_executing": false
    },
    "scrolled": true
   },
   "outputs": [
    {
     "data": {
      "text/html": [
       "<table border=\"1\" class=\"dataframe\">\n",
       "  <thead>\n",
       "    <tr style=\"text-align: left;\">\n",
       "      <th>epoch</th>\n",
       "      <th>train_loss</th>\n",
       "      <th>valid_loss</th>\n",
       "      <th>accuracy</th>\n",
       "      <th>time</th>\n",
       "    </tr>\n",
       "  </thead>\n",
       "  <tbody>\n",
       "    <tr>\n",
       "      <td>0</td>\n",
       "      <td>0.864996</td>\n",
       "      <td>0.751746</td>\n",
       "      <td>0.195446</td>\n",
       "      <td>00:00</td>\n",
       "    </tr>\n",
       "    <tr>\n",
       "      <td>1</td>\n",
       "      <td>0.862493</td>\n",
       "      <td>0.741960</td>\n",
       "      <td>0.195446</td>\n",
       "      <td>00:00</td>\n",
       "    </tr>\n",
       "    <tr>\n",
       "      <td>2</td>\n",
       "      <td>0.834044</td>\n",
       "      <td>0.731287</td>\n",
       "      <td>0.195446</td>\n",
       "      <td>00:00</td>\n",
       "    </tr>\n",
       "    <tr>\n",
       "      <td>3</td>\n",
       "      <td>0.800630</td>\n",
       "      <td>0.720674</td>\n",
       "      <td>0.195446</td>\n",
       "      <td>00:00</td>\n",
       "    </tr>\n",
       "    <tr>\n",
       "      <td>4</td>\n",
       "      <td>0.770561</td>\n",
       "      <td>0.710742</td>\n",
       "      <td>0.195446</td>\n",
       "      <td>00:00</td>\n",
       "    </tr>\n",
       "  </tbody>\n",
       "</table>"
      ],
      "text/plain": [
       "<IPython.core.display.HTML object>"
      ]
     },
     "metadata": {},
     "output_type": "display_data"
    },
    {
     "data": {
      "text/html": [],
      "text/plain": [
       "<IPython.core.display.HTML object>"
      ]
     },
     "metadata": {},
     "output_type": "display_data"
    },
    {
     "data": {
      "text/html": [],
      "text/plain": [
       "<IPython.core.display.HTML object>"
      ]
     },
     "metadata": {},
     "output_type": "display_data"
    },
    {
     "data": {
      "text/html": [],
      "text/plain": [
       "<IPython.core.display.HTML object>"
      ]
     },
     "metadata": {},
     "output_type": "display_data"
    },
    {
     "data": {
      "text/html": [],
      "text/plain": [
       "<IPython.core.display.HTML object>"
      ]
     },
     "metadata": {},
     "output_type": "display_data"
    },
    {
     "data": {
      "text/html": [],
      "text/plain": [
       "<IPython.core.display.HTML object>"
      ]
     },
     "metadata": {},
     "output_type": "display_data"
    },
    {
     "data": {
      "text/html": [
       "<table border=\"1\" class=\"dataframe\">\n",
       "  <thead>\n",
       "    <tr style=\"text-align: left;\">\n",
       "      <th>epoch</th>\n",
       "      <th>train_loss</th>\n",
       "      <th>valid_loss</th>\n",
       "      <th>accuracy</th>\n",
       "      <th>time</th>\n",
       "    </tr>\n",
       "  </thead>\n",
       "  <tbody>\n",
       "    <tr>\n",
       "      <td>0</td>\n",
       "      <td>0.707918</td>\n",
       "      <td>0.690239</td>\n",
       "      <td>0.567797</td>\n",
       "      <td>00:00</td>\n",
       "    </tr>\n",
       "    <tr>\n",
       "      <td>1</td>\n",
       "      <td>0.705794</td>\n",
       "      <td>0.691711</td>\n",
       "      <td>0.512712</td>\n",
       "      <td>00:00</td>\n",
       "    </tr>\n",
       "    <tr>\n",
       "      <td>2</td>\n",
       "      <td>0.682044</td>\n",
       "      <td>0.692799</td>\n",
       "      <td>0.451271</td>\n",
       "      <td>00:00</td>\n",
       "    </tr>\n",
       "    <tr>\n",
       "      <td>3</td>\n",
       "      <td>0.654738</td>\n",
       "      <td>0.693462</td>\n",
       "      <td>0.413136</td>\n",
       "      <td>00:00</td>\n",
       "    </tr>\n",
       "    <tr>\n",
       "      <td>4</td>\n",
       "      <td>0.630430</td>\n",
       "      <td>0.694260</td>\n",
       "      <td>0.360170</td>\n",
       "      <td>00:00</td>\n",
       "    </tr>\n",
       "  </tbody>\n",
       "</table>"
      ],
      "text/plain": [
       "<IPython.core.display.HTML object>"
      ]
     },
     "metadata": {},
     "output_type": "display_data"
    },
    {
     "data": {
      "text/html": [],
      "text/plain": [
       "<IPython.core.display.HTML object>"
      ]
     },
     "metadata": {},
     "output_type": "display_data"
    },
    {
     "data": {
      "text/html": [],
      "text/plain": [
       "<IPython.core.display.HTML object>"
      ]
     },
     "metadata": {},
     "output_type": "display_data"
    },
    {
     "data": {
      "text/html": [],
      "text/plain": [
       "<IPython.core.display.HTML object>"
      ]
     },
     "metadata": {},
     "output_type": "display_data"
    },
    {
     "data": {
      "text/html": [],
      "text/plain": [
       "<IPython.core.display.HTML object>"
      ]
     },
     "metadata": {},
     "output_type": "display_data"
    },
    {
     "data": {
      "text/html": [],
      "text/plain": [
       "<IPython.core.display.HTML object>"
      ]
     },
     "metadata": {},
     "output_type": "display_data"
    },
    {
     "data": {
      "text/html": [
       "<table border=\"1\" class=\"dataframe\">\n",
       "  <thead>\n",
       "    <tr style=\"text-align: left;\">\n",
       "      <th>epoch</th>\n",
       "      <th>train_loss</th>\n",
       "      <th>valid_loss</th>\n",
       "      <th>accuracy</th>\n",
       "      <th>time</th>\n",
       "    </tr>\n",
       "  </thead>\n",
       "  <tbody>\n",
       "    <tr>\n",
       "      <td>0</td>\n",
       "      <td>0.751655</td>\n",
       "      <td>0.641303</td>\n",
       "      <td>0.823404</td>\n",
       "      <td>00:00</td>\n",
       "    </tr>\n",
       "    <tr>\n",
       "      <td>1</td>\n",
       "      <td>0.749355</td>\n",
       "      <td>0.647811</td>\n",
       "      <td>0.823404</td>\n",
       "      <td>00:00</td>\n",
       "    </tr>\n",
       "    <tr>\n",
       "      <td>2</td>\n",
       "      <td>0.723628</td>\n",
       "      <td>0.653670</td>\n",
       "      <td>0.823404</td>\n",
       "      <td>00:00</td>\n",
       "    </tr>\n",
       "    <tr>\n",
       "      <td>3</td>\n",
       "      <td>0.693957</td>\n",
       "      <td>0.659123</td>\n",
       "      <td>0.836170</td>\n",
       "      <td>00:00</td>\n",
       "    </tr>\n",
       "    <tr>\n",
       "      <td>4</td>\n",
       "      <td>0.667472</td>\n",
       "      <td>0.664712</td>\n",
       "      <td>0.914894</td>\n",
       "      <td>00:00</td>\n",
       "    </tr>\n",
       "  </tbody>\n",
       "</table>"
      ],
      "text/plain": [
       "<IPython.core.display.HTML object>"
      ]
     },
     "metadata": {},
     "output_type": "display_data"
    },
    {
     "data": {
      "text/html": [],
      "text/plain": [
       "<IPython.core.display.HTML object>"
      ]
     },
     "metadata": {},
     "output_type": "display_data"
    },
    {
     "data": {
      "text/html": [],
      "text/plain": [
       "<IPython.core.display.HTML object>"
      ]
     },
     "metadata": {},
     "output_type": "display_data"
    },
    {
     "data": {
      "text/html": [],
      "text/plain": [
       "<IPython.core.display.HTML object>"
      ]
     },
     "metadata": {},
     "output_type": "display_data"
    },
    {
     "data": {
      "text/html": [],
      "text/plain": [
       "<IPython.core.display.HTML object>"
      ]
     },
     "metadata": {},
     "output_type": "display_data"
    },
    {
     "data": {
      "text/html": [],
      "text/plain": [
       "<IPython.core.display.HTML object>"
      ]
     },
     "metadata": {},
     "output_type": "display_data"
    },
    {
     "data": {
      "text/html": [
       "<table border=\"1\" class=\"dataframe\">\n",
       "  <thead>\n",
       "    <tr style=\"text-align: left;\">\n",
       "      <th>epoch</th>\n",
       "      <th>train_loss</th>\n",
       "      <th>valid_loss</th>\n",
       "      <th>accuracy</th>\n",
       "      <th>time</th>\n",
       "    </tr>\n",
       "  </thead>\n",
       "  <tbody>\n",
       "    <tr>\n",
       "      <td>0</td>\n",
       "      <td>0.866113</td>\n",
       "      <td>0.684358</td>\n",
       "      <td>0.776753</td>\n",
       "      <td>00:00</td>\n",
       "    </tr>\n",
       "    <tr>\n",
       "      <td>1</td>\n",
       "      <td>0.863757</td>\n",
       "      <td>0.687229</td>\n",
       "      <td>0.750923</td>\n",
       "      <td>00:00</td>\n",
       "    </tr>\n",
       "    <tr>\n",
       "      <td>2</td>\n",
       "      <td>0.836328</td>\n",
       "      <td>0.691574</td>\n",
       "      <td>0.616236</td>\n",
       "      <td>00:00</td>\n",
       "    </tr>\n",
       "    <tr>\n",
       "      <td>3</td>\n",
       "      <td>0.803042</td>\n",
       "      <td>0.696890</td>\n",
       "      <td>0.363469</td>\n",
       "      <td>00:00</td>\n",
       "    </tr>\n",
       "    <tr>\n",
       "      <td>4</td>\n",
       "      <td>0.772367</td>\n",
       "      <td>0.702738</td>\n",
       "      <td>0.212177</td>\n",
       "      <td>00:00</td>\n",
       "    </tr>\n",
       "  </tbody>\n",
       "</table>"
      ],
      "text/plain": [
       "<IPython.core.display.HTML object>"
      ]
     },
     "metadata": {},
     "output_type": "display_data"
    },
    {
     "data": {
      "text/html": [],
      "text/plain": [
       "<IPython.core.display.HTML object>"
      ]
     },
     "metadata": {},
     "output_type": "display_data"
    },
    {
     "data": {
      "text/html": [],
      "text/plain": [
       "<IPython.core.display.HTML object>"
      ]
     },
     "metadata": {},
     "output_type": "display_data"
    },
    {
     "data": {
      "text/html": [],
      "text/plain": [
       "<IPython.core.display.HTML object>"
      ]
     },
     "metadata": {},
     "output_type": "display_data"
    },
    {
     "data": {
      "text/html": [],
      "text/plain": [
       "<IPython.core.display.HTML object>"
      ]
     },
     "metadata": {},
     "output_type": "display_data"
    },
    {
     "data": {
      "text/html": [],
      "text/plain": [
       "<IPython.core.display.HTML object>"
      ]
     },
     "metadata": {},
     "output_type": "display_data"
    },
    {
     "data": {
      "text/html": [
       "<table border=\"1\" class=\"dataframe\">\n",
       "  <thead>\n",
       "    <tr style=\"text-align: left;\">\n",
       "      <th>epoch</th>\n",
       "      <th>train_loss</th>\n",
       "      <th>valid_loss</th>\n",
       "      <th>accuracy</th>\n",
       "      <th>time</th>\n",
       "    </tr>\n",
       "  </thead>\n",
       "  <tbody>\n",
       "    <tr>\n",
       "      <td>0</td>\n",
       "      <td>0.664598</td>\n",
       "      <td>0.656604</td>\n",
       "      <td>0.771429</td>\n",
       "      <td>00:00</td>\n",
       "    </tr>\n",
       "    <tr>\n",
       "      <td>1</td>\n",
       "      <td>0.662490</td>\n",
       "      <td>0.655421</td>\n",
       "      <td>0.771429</td>\n",
       "      <td>00:00</td>\n",
       "    </tr>\n",
       "    <tr>\n",
       "      <td>2</td>\n",
       "      <td>0.638671</td>\n",
       "      <td>0.653286</td>\n",
       "      <td>0.771429</td>\n",
       "      <td>00:00</td>\n",
       "    </tr>\n",
       "    <tr>\n",
       "      <td>3</td>\n",
       "      <td>0.610937</td>\n",
       "      <td>0.650608</td>\n",
       "      <td>0.771429</td>\n",
       "      <td>00:00</td>\n",
       "    </tr>\n",
       "    <tr>\n",
       "      <td>4</td>\n",
       "      <td>0.586091</td>\n",
       "      <td>0.648077</td>\n",
       "      <td>0.771429</td>\n",
       "      <td>00:00</td>\n",
       "    </tr>\n",
       "  </tbody>\n",
       "</table>"
      ],
      "text/plain": [
       "<IPython.core.display.HTML object>"
      ]
     },
     "metadata": {},
     "output_type": "display_data"
    },
    {
     "data": {
      "text/html": [],
      "text/plain": [
       "<IPython.core.display.HTML object>"
      ]
     },
     "metadata": {},
     "output_type": "display_data"
    },
    {
     "data": {
      "text/html": [],
      "text/plain": [
       "<IPython.core.display.HTML object>"
      ]
     },
     "metadata": {},
     "output_type": "display_data"
    },
    {
     "data": {
      "text/html": [],
      "text/plain": [
       "<IPython.core.display.HTML object>"
      ]
     },
     "metadata": {},
     "output_type": "display_data"
    },
    {
     "data": {
      "text/html": [],
      "text/plain": [
       "<IPython.core.display.HTML object>"
      ]
     },
     "metadata": {},
     "output_type": "display_data"
    },
    {
     "data": {
      "text/html": [],
      "text/plain": [
       "<IPython.core.display.HTML object>"
      ]
     },
     "metadata": {},
     "output_type": "display_data"
    }
   ],
   "source": [
    "from fastai.tabular import FillMissing\n",
    "from fastai.tabular import Categorify\n",
    "from fastai.tabular import Normalize\n",
    "\n",
    "epochs = 5\n",
    "layers = [200,200,150,100]\n",
    "learning_rate = 1e-4\n",
    "\n",
    "# set plot_tuples with results from training a fast.ai NNs\n",
    "procs = [FillMissing, Categorify, Normalize]\n",
    "result = fast.run_k_fold_cross_validation_fastai(\n",
    "    data, training_attributes, epochs, learning_rate, cat_names,\n",
    "    cont_names, target, procs, layers)\n",
    "\n",
    "method = 'fastai'\n",
    "plot_tuples[method] = result"
   ]
  },
  {
   "cell_type": "markdown",
   "metadata": {},
   "source": [
    "# Plot results"
   ]
  },
  {
   "cell_type": "code",
   "execution_count": 15,
   "metadata": {
    "scrolled": true
   },
   "outputs": [
    {
     "name": "stdout",
     "output_type": "stream",
     "text": [
      "The ordered accuracies are:  [(b'RF-Clf', 0.947061) (b'GradientBDT', 0.947061) (b'GaussianNB', 0.930908) (b'LR', 0.866419) (b'kNN', 0.846406)\n",
      " (b'SVM-lin', 0.828066) (b'fastai', 0.490823)]\n",
      "The ordered f1-scores are:  [(b'RF-Clf', 0.964299) (b'GradientBDT', 0.964299) (b'GaussianNB', 0.954477) (b'LR', 0.913312) (b'kNN', 0.905409)\n",
      " (b'SVM-lin', 0.897406) (b'fastai', 0.459863)]\n"
     ]
    }
   ],
   "source": [
    "df_test_accs, acc_ranks, df_test_f1s, f1_ranks = ana.prepare_plot_of_kfold_cv(\n",
    "    plot_tuples)"
   ]
  },
  {
   "cell_type": "code",
   "execution_count": 16,
   "metadata": {
    "scrolled": false
   },
   "outputs": [
    {
     "data": {
      "image/png": "[encoded data removed]",
      "text/plain": [
       "<Figure size 720x288 with 1 Axes>"
      ]
     },
     "metadata": {
      "needs_background": "light"
     },
     "output_type": "display_data"
    }
   ],
   "source": [
    "ana.plot_f1s(df_test_f1s, naive_f1,\n",
    "           store_path='plots/{}_F1-Scores.png'.format(occupant))"
   ]
  },
  {
   "cell_type": "markdown",
   "metadata": {},
   "source": [
    "fastai could not keep up with the scikit-learn ML\n",
    "methods and was therefore left out for the following paramter opitmization for this particular occupant.\n",
    "\n",
    "Therefore, all the other ML methods were parameter optimized in ```optimize"
   ]
  },
  {
   "cell_type": "code",
   "execution_count": 17,
   "metadata": {
    "scrolled": false
   },
   "outputs": [
    {
     "data": {
      "image/png": "[encoded data removed]",
      "text/plain": [
       "<Figure size 720x288 with 1 Axes>"
      ]
     },
     "metadata": {
      "needs_background": "light"
     },
     "output_type": "display_data"
    }
   ],
   "source": [
    "ana.plot_accs(df_test_accs, naive_acc,\n",
    "            store_path='plots/{}_Accuracies.png'.format(occupant))"
   ]
  },
  {
   "cell_type": "code",
   "execution_count": 18,
   "metadata": {
    "scrolled": false
   },
   "outputs": [
    {
     "data": {
      "image/png": "[encoded data removed]",
      "text/plain": [
       "<Figure size 432x288 with 1 Axes>"
      ]
     },
     "metadata": {
      "needs_background": "light"
     },
     "output_type": "display_data"
    }
   ],
   "source": [
    "ana.plot_training_times(plot_tuples, \n",
    "                store_path='plots/{}_Runtimes.png'.format(occupant))"
   ]
  },
  {
   "cell_type": "code",
   "execution_count": 19,
   "metadata": {
    "pycharm": {
     "name": "#%%\n"
    },
    "scrolled": false
   },
   "outputs": [
    {
     "data": {
      "image/png": "[encoded data removed]",
      "text/plain": [
       "<Figure size 432x288 with 1 Axes>"
      ]
     },
     "metadata": {
      "needs_background": "light"
     },
     "output_type": "display_data"
    }
   ],
   "source": [
    "ana.plot_inference_times(plot_tuples, \n",
    "                store_path='plots/{}_InferenceTimes.png'.format(occupant))"
   ]
  },
  {
   "cell_type": "markdown",
   "metadata": {
    "pycharm": {
     "name": "#%% md\n"
    }
   },
   "source": [
    "In check_random_search_results.ipynb I compare the results of this randomized search. \n",
    "Afterwards, I checked the results in check_random_search_results to see\n",
    "which method performed best. \n",
    "Then I ran refit_with_optimized_parameters.ipynb to refit all the models with \n",
    "the optimal parameters with three different seeds as is good practice.\n"
   ]
  }
 ],
 "metadata": {
  "kernelspec": {
   "display_name": "Python 3",
   "language": "python",
   "name": "python3"
  },
  "language_info": {
   "codemirror_mode": {
    "name": "ipython",
    "version": 3
   },
   "file_extension": ".py",
   "mimetype": "text/x-python",
   "name": "python",
   "nbconvert_exporter": "python",
   "pygments_lexer": "ipython3",
   "version": "3.7.6"
  },
  "pycharm": {
   "stem_cell": {
    "cell_type": "raw",
    "metadata": {
     "collapsed": false
    },
    "source": []
   }
  }
 },
 "nbformat": 4,
 "nbformat_minor": 2
}
